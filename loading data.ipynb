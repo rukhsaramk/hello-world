{
 "cells": [
  {
   "cell_type": "code",
   "execution_count": 7,
   "metadata": {},
   "outputs": [
    {
     "data": {
      "text/plain": [
       "<Figure size 640x480 with 1 Axes>"
      ]
     },
     "metadata": {},
     "output_type": "display_data"
    }
   ],
   "source": [
    "import numpy as np\n",
    "import matplotlib.pyplot as plt\n",
    "import os\n",
    "import cv2\n",
    "from tqdm import tqdm\n",
    "\n",
    "\n",
    "DATADIR = \"E:/fyp_stuff/cars\"\n",
    "CATEGORIES = [\"cultus\", \"swift\"]\n",
    "\n",
    "for category in CATEGORIES:  # do dogs and cats\n",
    "    path = os.path.join(DATADIR,category)  # create path to dogs and cats\n",
    "    for img in os.listdir(path):  # iterate over each image per dogs and cats\n",
    "        img_array = cv2.imread(os.path.join(path,img),cv2.IMREAD_GRAYSCALE)  # convert to array\n",
    "        plt.imshow(img_array, cmap='gray')  # graph it\n",
    "        plt.show()  # display!\n",
    "\n",
    "        break  # we just want one for now so break\n",
    "    break  #...and one more!"
   ]
  },
  {
   "cell_type": "code",
   "execution_count": 9,
   "metadata": {},
   "outputs": [
    {
     "name": "stdout",
     "output_type": "stream",
     "text": [
      "[[41 41 42 ... 59 58 58]\n",
      " [44 44 44 ... 60 60 59]\n",
      " [45 45 44 ... 61 61 61]\n",
      " ...\n",
      " [43 43 43 ... 60 60 60]\n",
      " [41 41 40 ... 58 58 58]\n",
      " [39 39 38 ... 58 57 57]]\n"
     ]
    }
   ],
   "source": [
    "print(img_array)"
   ]
  },
  {
   "cell_type": "code",
   "execution_count": 10,
   "metadata": {},
   "outputs": [
    {
     "name": "stdout",
     "output_type": "stream",
     "text": [
      "(360, 640)\n"
     ]
    }
   ],
   "source": [
    "print(img_array.shape)"
   ]
  },
  {
   "cell_type": "code",
   "execution_count": 11,
   "metadata": {},
   "outputs": [
    {
     "data": {
      "image/png": "[encoded data removed]",
      "text/plain": [
       "<Figure size 432x288 with 1 Axes>"
      ]
     },
     "metadata": {
      "needs_background": "light"
     },
     "output_type": "display_data"
    }
   ],
   "source": [
    "IMG_SIZE = 50\n",
    "\n",
    "new_array = cv2.resize(img_array, (IMG_SIZE, IMG_SIZE))\n",
    "plt.imshow(new_array, cmap='gray')\n",
    "plt.show()"
   ]
  },
  {
   "cell_type": "code",
   "execution_count": 12,
   "metadata": {},
   "outputs": [
    {
     "data": {
      "image/png": "[encoded data removed]",
      "text/plain": [
       "<Figure size 432x288 with 1 Axes>"
      ]
     },
     "metadata": {
      "needs_background": "light"
     },
     "output_type": "display_data"
    }
   ],
   "source": [
    "new_array = cv2.resize(img_array, (IMG_SIZE, IMG_SIZE))\n",
    "plt.imshow(new_array, cmap='gray')\n",
    "plt.show()"
   ]
  },
  {
   "cell_type": "code",
   "execution_count": 13,
   "metadata": {},
   "outputs": [
    {
     "name": "stderr",
     "output_type": "stream",
     "text": [
      "100%|████████████████████████████████████████████████████████████████████████████████| 218/218 [00:06<00:00, 34.40it/s]\n",
      "100%|████████████████████████████████████████████████████████████████████████████████| 218/218 [00:16<00:00, 13.08it/s]\n"
     ]
    },
    {
     "name": "stdout",
     "output_type": "stream",
     "text": [
      "436\n"
     ]
    }
   ],
   "source": [
    "training_data = []\n",
    "\n",
    "def create_training_data():\n",
    "    for category in CATEGORIES:  # do cultus and swift\n",
    "\n",
    "        path = os.path.join(DATADIR,category)  # create path to cultus and swift\n",
    "        class_num = CATEGORIES.index(category)  # get the classification  (0 or a 1). 0=cultus 1=swift\n",
    "\n",
    "        for img in tqdm(os.listdir(path)):  # iterate over each image per cultus and swift\n",
    "            try:\n",
    "                img_array = cv2.imread(os.path.join(path,img) ,cv2.IMREAD_GRAYSCALE)  # convert to array\n",
    "                new_array = cv2.resize(img_array, (IMG_SIZE, IMG_SIZE))  # resize to normalize data size\n",
    "                training_data.append([new_array, class_num])  # add this to our training_data\n",
    "            except Exception as e:  # in the interest in keeping the output clean...\n",
    "                pass\n",
    "            #except OSError as e:\n",
    "            #    print(\"OSErrroBad img most likely\", e, os.path.join(path,img))\n",
    "            #except Exception as e:\n",
    "            #    print(\"general exception\", e, os.path.join(path,img))\n",
    "\n",
    "create_training_data()\n",
    "\n",
    "print(len(training_data))"
   ]
  },
  {
   "cell_type": "code",
   "execution_count": 14,
   "metadata": {},
   "outputs": [],
   "source": [
    "import random\n",
    "\n",
    "random.shuffle(training_data)"
   ]
  },
  {
   "cell_type": "code",
   "execution_count": 17,
   "metadata": {},
   "outputs": [
    {
     "name": "stdout",
     "output_type": "stream",
     "text": [
      "1\n",
      "0\n",
      "0\n",
      "1\n",
      "0\n",
      "0\n",
      "0\n",
      "0\n",
      "1\n",
      "1\n"
     ]
    },
    {
     "data": {
      "text/plain": [
       "<function PIL.Image.open(fp, mode='r')>"
      ]
     },
     "metadata": {},
     "output_type": "display_data"
    }
   ],
   "source": [
    "from IPython.display import display\n",
    "from PIL import Image\n",
    "\n",
    "for sample in training_data[:10]:\n",
    "    print(sample[1])\n",
    "    \n",
    "display(Image.open)\n",
    "plt.show()"
   ]
  },
  {
   "cell_type": "code",
   "execution_count": 18,
   "metadata": {},
   "outputs": [
    {
     "name": "stdout",
     "output_type": "stream",
     "text": [
      "[[[[247]\n",
      "   [251]\n",
      "   [251]\n",
      "   ...\n",
      "   [250]\n",
      "   [254]\n",
      "   [255]]\n",
      "\n",
      "  [[248]\n",
      "   [249]\n",
      "   [249]\n",
      "   ...\n",
      "   [247]\n",
      "   [254]\n",
      "   [255]]\n",
      "\n",
      "  [[234]\n",
      "   [248]\n",
      "   [249]\n",
      "   ...\n",
      "   [254]\n",
      "   [252]\n",
      "   [252]]\n",
      "\n",
      "  ...\n",
      "\n",
      "  [[ 85]\n",
      "   [ 69]\n",
      "   [ 76]\n",
      "   ...\n",
      "   [170]\n",
      "   [169]\n",
      "   [175]]\n",
      "\n",
      "  [[ 71]\n",
      "   [ 69]\n",
      "   [ 66]\n",
      "   ...\n",
      "   [157]\n",
      "   [157]\n",
      "   [159]]\n",
      "\n",
      "  [[ 81]\n",
      "   [ 86]\n",
      "   [ 73]\n",
      "   ...\n",
      "   [163]\n",
      "   [161]\n",
      "   [166]]]]\n"
     ]
    }
   ],
   "source": [
    "X = []\n",
    "y = []\n",
    "\n",
    "for features,label in training_data:\n",
    "    X.append(features)\n",
    "    y.append(label)\n",
    "\n",
    "print(X[0].reshape(-1, IMG_SIZE, IMG_SIZE, 1))\n",
    "\n",
    "X = np.array(X).reshape(-1, IMG_SIZE, IMG_SIZE, 1)"
   ]
  },
  {
   "cell_type": "code",
   "execution_count": 19,
   "metadata": {},
   "outputs": [],
   "source": [
    "import pickle\n",
    "\n",
    "pickle_out = open(\"X.pickle\",\"wb\")\n",
    "pickle.dump(X, pickle_out)\n",
    "pickle_out.close()\n",
    "\n",
    "pickle_out = open(\"y.pickle\",\"wb\")\n",
    "pickle.dump(y, pickle_out)\n",
    "pickle_out.close()"
   ]
  },
  {
   "cell_type": "code",
   "execution_count": 20,
   "metadata": {},
   "outputs": [],
   "source": [
    "pickle_in = open(\"X.pickle\",\"rb\")\n",
    "X = pickle.load(pickle_in)"
   ]
  },
  {
   "cell_type": "code",
   "execution_count": 21,
   "metadata": {},
   "outputs": [
    {
     "data": {
      "text/plain": [
       "array([[[166],\n",
       "        [163],\n",
       "        [159],\n",
       "        ...,\n",
       "        [139],\n",
       "        [140],\n",
       "        [140]],\n",
       "\n",
       "       [[161],\n",
       "        [156],\n",
       "        [152],\n",
       "        ...,\n",
       "        [145],\n",
       "        [147],\n",
       "        [149]],\n",
       "\n",
       "       [[152],\n",
       "        [152],\n",
       "        [147],\n",
       "        ...,\n",
       "        [147],\n",
       "        [148],\n",
       "        [146]],\n",
       "\n",
       "       ...,\n",
       "\n",
       "       [[129],\n",
       "        [179],\n",
       "        [161],\n",
       "        ...,\n",
       "        [107],\n",
       "        [ 96],\n",
       "        [ 95]],\n",
       "\n",
       "       [[152],\n",
       "        [165],\n",
       "        [140],\n",
       "        ...,\n",
       "        [120],\n",
       "        [101],\n",
       "        [101]],\n",
       "\n",
       "       [[125],\n",
       "        [154],\n",
       "        [159],\n",
       "        ...,\n",
       "        [107],\n",
       "        [124],\n",
       "        [133]]], dtype=uint8)"
      ]
     },
     "execution_count": 21,
     "metadata": {},
     "output_type": "execute_result"
    }
   ],
   "source": [
    "X[1]"
   ]
  },
  {
   "cell_type": "code",
   "execution_count": null,
   "metadata": {},
   "outputs": [],
   "source": []
  }
 ],
 "metadata": {
  "kernelspec": {
   "display_name": "Python 3",
   "language": "python",
   "name": "python3"
  },
  "language_info": {
   "codemirror_mode": {
    "name": "ipython",
    "version": 3
   },
   "file_extension": ".py",
   "mimetype": "text/x-python",
   "name": "python",
   "nbconvert_exporter": "python",
   "pygments_lexer": "ipython3",
   "version": "3.7.3"
  }
 },
 "nbformat": 4,
 "nbformat_minor": 2
}
